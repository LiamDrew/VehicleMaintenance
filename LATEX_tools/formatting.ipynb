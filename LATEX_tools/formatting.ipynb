{
 "cells": [
  {
   "cell_type": "code",
   "execution_count": 3,
   "id": "9c7d0626",
   "metadata": {},
   "outputs": [],
   "source": [
    "def read_and_print_first_five(filename):\n",
    "    \"\"\"Reads a text file and prints the first 5 lines.\n",
    "\n",
    "    Args:\n",
    "        filename: The name of the .txt file to read.\n",
    "    \"\"\"\n",
    "\n",
    "    with open(filename, 'r') as file:\n",
    "        for i, line in enumerate(file):\n",
    "            if i < 5:\n",
    "                print(line, end='')  # Print without an extra newline\n",
    "            else:\n",
    "                break  # Stop reading after 5 lines"
   ]
  },
  {
   "cell_type": "code",
   "execution_count": 8,
   "id": "2e6065b1",
   "metadata": {},
   "outputs": [
    {
     "ename": "FileNotFoundError",
     "evalue": "[Errno 2] No such file or directory: '../blah.txt'",
     "output_type": "error",
     "traceback": [
      "\u001b[0;31m---------------------------------------------------------------------------\u001b[0m",
      "\u001b[0;31mFileNotFoundError\u001b[0m                         Traceback (most recent call last)",
      "Cell \u001b[0;32mIn[8], line 1\u001b[0m\n\u001b[0;32m----> 1\u001b[0m read_and_print_first_five(\u001b[38;5;124m'\u001b[39m\u001b[38;5;124m../blah.txt\u001b[39m\u001b[38;5;124m'\u001b[39m)\n",
      "Cell \u001b[0;32mIn[3], line 8\u001b[0m, in \u001b[0;36mread_and_print_first_five\u001b[0;34m(filename)\u001b[0m\n\u001b[1;32m      1\u001b[0m \u001b[38;5;28;01mdef\u001b[39;00m \u001b[38;5;21mread_and_print_first_five\u001b[39m(filename):\n\u001b[1;32m      2\u001b[0m \u001b[38;5;250m    \u001b[39m\u001b[38;5;124;03m\"\"\"Reads a text file and prints the first 5 lines.\u001b[39;00m\n\u001b[1;32m      3\u001b[0m \n\u001b[1;32m      4\u001b[0m \u001b[38;5;124;03m    Args:\u001b[39;00m\n\u001b[1;32m      5\u001b[0m \u001b[38;5;124;03m        filename: The name of the .txt file to read.\u001b[39;00m\n\u001b[1;32m      6\u001b[0m \u001b[38;5;124;03m    \"\"\"\u001b[39;00m\n\u001b[0;32m----> 8\u001b[0m     \u001b[38;5;28;01mwith\u001b[39;00m \u001b[38;5;28mopen\u001b[39m(filename, \u001b[38;5;124m'\u001b[39m\u001b[38;5;124mr\u001b[39m\u001b[38;5;124m'\u001b[39m) \u001b[38;5;28;01mas\u001b[39;00m file:\n\u001b[1;32m      9\u001b[0m         \u001b[38;5;28;01mfor\u001b[39;00m i, line \u001b[38;5;129;01min\u001b[39;00m \u001b[38;5;28menumerate\u001b[39m(file):\n\u001b[1;32m     10\u001b[0m             \u001b[38;5;28;01mif\u001b[39;00m i \u001b[38;5;241m<\u001b[39m \u001b[38;5;241m5\u001b[39m:\n",
      "File \u001b[0;32m~/anaconda3/lib/python3.11/site-packages/IPython/core/interactiveshell.py:286\u001b[0m, in \u001b[0;36m_modified_open\u001b[0;34m(file, *args, **kwargs)\u001b[0m\n\u001b[1;32m    279\u001b[0m \u001b[38;5;28;01mif\u001b[39;00m file \u001b[38;5;129;01min\u001b[39;00m {\u001b[38;5;241m0\u001b[39m, \u001b[38;5;241m1\u001b[39m, \u001b[38;5;241m2\u001b[39m}:\n\u001b[1;32m    280\u001b[0m     \u001b[38;5;28;01mraise\u001b[39;00m \u001b[38;5;167;01mValueError\u001b[39;00m(\n\u001b[1;32m    281\u001b[0m         \u001b[38;5;124mf\u001b[39m\u001b[38;5;124m\"\u001b[39m\u001b[38;5;124mIPython won\u001b[39m\u001b[38;5;124m'\u001b[39m\u001b[38;5;124mt let you open fd=\u001b[39m\u001b[38;5;132;01m{\u001b[39;00mfile\u001b[38;5;132;01m}\u001b[39;00m\u001b[38;5;124m by default \u001b[39m\u001b[38;5;124m\"\u001b[39m\n\u001b[1;32m    282\u001b[0m         \u001b[38;5;124m\"\u001b[39m\u001b[38;5;124mas it is likely to crash IPython. If you know what you are doing, \u001b[39m\u001b[38;5;124m\"\u001b[39m\n\u001b[1;32m    283\u001b[0m         \u001b[38;5;124m\"\u001b[39m\u001b[38;5;124myou can use builtins\u001b[39m\u001b[38;5;124m'\u001b[39m\u001b[38;5;124m open.\u001b[39m\u001b[38;5;124m\"\u001b[39m\n\u001b[1;32m    284\u001b[0m     )\n\u001b[0;32m--> 286\u001b[0m \u001b[38;5;28;01mreturn\u001b[39;00m io_open(file, \u001b[38;5;241m*\u001b[39margs, \u001b[38;5;241m*\u001b[39m\u001b[38;5;241m*\u001b[39mkwargs)\n",
      "\u001b[0;31mFileNotFoundError\u001b[0m: [Errno 2] No such file or directory: '../blah.txt'"
     ]
    }
   ],
   "source": [
    "read_and_print_first_five('../blah.txt')  # Replace with your file's name"
   ]
  },
  {
   "cell_type": "code",
   "execution_count": 9,
   "id": "b324b8bf",
   "metadata": {},
   "outputs": [],
   "source": [
    "def print_first_five_lines(file_path):\n",
    "    \"\"\"Prints the first five lines of a text file.\n",
    "\n",
    "    Args:\n",
    "        file_path (str): The path to the text file.\n",
    "    \"\"\"\n",
    "\n",
    "    try:\n",
    "        with open(file_path, 'r') as file:\n",
    "            for line_number, line in enumerate(file):\n",
    "                if line_number == 5:\n",
    "                    break\n",
    "                print(line, end='')  # The end='' prevents extra newlines\n",
    "    except FileNotFoundError:\n",
    "        print(f\"File not found: {file_path}\")\n",
    "\n",
    "# How to use the function:\n",
    "# print_first_five_lines('my_text_file.txt')"
   ]
  },
  {
   "cell_type": "code",
   "execution_count": 10,
   "id": "6abd3d6c",
   "metadata": {},
   "outputs": [
    {
     "name": "stdout",
     "output_type": "stream",
     "text": [
      "File not found: ../blah.txt\n"
     ]
    }
   ],
   "source": [
    "print_first_five_lines('../blah.txt')"
   ]
  },
  {
   "cell_type": "code",
   "execution_count": 11,
   "id": "91ba53b9",
   "metadata": {},
   "outputs": [
    {
     "name": "stdout",
     "output_type": "stream",
     "text": [
      "CAT906M|Cat|906M|Oil_Change|132492140|15 Gallons|10w-40 Oil|https://www.google.com/|Hours (100 hours overdue)\n",
      "CAT906M|Cat|906M|Oil_Change|90832149|1|Oil Filter|https://www.google.com/|Hours (100 hours overdue)\n",
      "JD6220|John Deere|6220|Cab_Air_Filters_Change|AL155288|2|Recirculation Air Filter|https://www.google.com/|Date (44628 days overdue)\n",
      "JD6220|John Deere|6220|Cab_Air_Filters_Change|AL177184|2|Standard Air Filter|https://www.google.com/|Date (44628 days overdue)\n",
      "JD6220|John Deere|6220|Carbon_Filter_Change|AL158986|1|Carbon Filter|https://www.google.com/|Date (27 days overdue)\n"
     ]
    }
   ],
   "source": [
    "print_first_five_lines('../output.txt')"
   ]
  },
  {
   "cell_type": "code",
   "execution_count": 14,
   "id": "22a5c146",
   "metadata": {},
   "outputs": [],
   "source": [
    "import pandas as pd"
   ]
  },
  {
   "cell_type": "code",
   "execution_count": 15,
   "id": "9fc71e01",
   "metadata": {},
   "outputs": [
    {
     "name": "stdout",
     "output_type": "stream",
     "text": [
      "   Equipment ID Manufacturer Model                       Maintenance Type  \\\n",
      "0       CAT906M          Cat  906M                             Oil_Change   \n",
      "1       CAT906M          Cat  906M                             Oil_Change   \n",
      "2        JD6220   John Deere  6220                 Cab_Air_Filters_Change   \n",
      "3        JD6220   John Deere  6220                 Cab_Air_Filters_Change   \n",
      "4        JD6220   John Deere  6220                   Carbon_Filter_Change   \n",
      "5        JD6220   John Deere  6220       Clean_Engine_And_Cab_Air_Filters   \n",
      "6        JD6220   John Deere  6220                    Fuel_Filters_Change   \n",
      "7        JD6220   John Deere  6220                    Fuel_Filters_Change   \n",
      "8        JD6220   John Deere  6220                    Fuel_Filters_Change   \n",
      "9        JD6220   John Deere  6220                    Fuel_Filters_Change   \n",
      "10       JD6220   John Deere  6220  Hydraulic_And_Transmission_Oil_Change   \n",
      "11       JD6220   John Deere  6220  Hydraulic_And_Transmission_Oil_Change   \n",
      "12       JD6220   John Deere  6220  Hydraulic_And_Transmission_Oil_Change   \n",
      "13       JD6220   John Deere  6220  Hydraulic_And_Transmission_Oil_Change   \n",
      "14       JD6220   John Deere  6220                             Oil_Change   \n",
      "15       JD6220   John Deere  6220                             Oil_Change   \n",
      "\n",
      "      Part ID           Quantity               Description  \\\n",
      "0   132492140         15 Gallons                10w-40 Oil   \n",
      "1    90832149                  1                Oil Filter   \n",
      "2    AL155288                  2  Recirculation Air Filter   \n",
      "3    AL177184                  2       Standard Air Filter   \n",
      "4    AL158986                  1             Carbon Filter   \n",
      "5                                                            \n",
      "6    AL153517                  1        Inline Fuel Filter   \n",
      "7    RE509031                  1         Final Fuel Filter   \n",
      "8    RE509208                  1       Primary Fuel Filter   \n",
      "9     RE62419                  1               Fuel Filter   \n",
      "10   AL118036                  1      Hydraulic Oil Filter   \n",
      "11   AL156625                  1   Transmission Oil Filter   \n",
      "12   AL203061                  1  Hydraulic Filter Element   \n",
      "13    AR69444     13.2 Gal (50L)  Hy-Gard Transmission Oil   \n",
      "14   12345678  4.2 Gallons (16L)                   Plus-50   \n",
      "15   RE504836                  1                Oil Filter   \n",
      "\n",
      "                                                  URL  \\\n",
      "0                             https://www.google.com/   \n",
      "1                             https://www.google.com/   \n",
      "2                             https://www.google.com/   \n",
      "3                             https://www.google.com/   \n",
      "4                             https://www.google.com/   \n",
      "5                                                       \n",
      "6                             https://www.google.com/   \n",
      "7                             https://www.google.com/   \n",
      "8                             https://www.google.com/   \n",
      "9                             https://www.google.com/   \n",
      "10  https://shop.deere.com/us/product/AL156625%3A-...   \n",
      "11  https://shop.deere.com/us/product/AL156625%3A-...   \n",
      "12  https://shop.deere.com/us/product/AL156625%3A-...   \n",
      "13  https://shop.deere.com/us/product/AR69444%3A-T...   \n",
      "14                            https://www.google.com/   \n",
      "15                            https://www.google.com/   \n",
      "\n",
      "                       Status  \n",
      "0   Hours (100 hours overdue)  \n",
      "1   Hours (100 hours overdue)  \n",
      "2   Date (44628 days overdue)  \n",
      "3   Date (44628 days overdue)  \n",
      "4      Date (27 days overdue)  \n",
      "5   Hours (300 hours overdue)  \n",
      "6   Hours (300 hours overdue)  \n",
      "7   Hours (300 hours overdue)  \n",
      "8   Hours (300 hours overdue)  \n",
      "9   Hours (300 hours overdue)  \n",
      "10  Hours (150 hours overdue)  \n",
      "11  Hours (150 hours overdue)  \n",
      "12  Hours (150 hours overdue)  \n",
      "13  Hours (150 hours overdue)  \n",
      "14  Hours (100 hours overdue)  \n",
      "15  Hours (100 hours overdue)  \n"
     ]
    }
   ],
   "source": [
    "def read_sql_output_to_dataframe(file_path):\n",
    "    \"\"\"Reads SQL output from a text file and creates a Pandas DataFrame.\n",
    "\n",
    "    Args:\n",
    "        file_path (str): The path to the text file.\n",
    "    \"\"\"\n",
    "\n",
    "    data = []\n",
    "    with open(file_path, 'r') as file:\n",
    "        for line in file:\n",
    "            fields = line.strip().split('|')  # Split line by '|' delimiter\n",
    "            data.append(fields)\n",
    "\n",
    "    df = pd.DataFrame(data, columns=['Equipment ID', 'Manufacturer', 'Model', 'Maintenance Type',\n",
    "                                     'Part ID', 'Quantity', 'Description', 'URL', 'Status'])\n",
    "    return df\n",
    "\n",
    "# Example usage:\n",
    "file_path = '../output.txt'  # Replace with your file path\n",
    "df = read_sql_output_to_dataframe(file_path)\n",
    "print(df)"
   ]
  },
  {
   "cell_type": "code",
   "execution_count": 17,
   "id": "dd0871b9",
   "metadata": {},
   "outputs": [
    {
     "name": "stdout",
     "output_type": "stream",
     "text": [
      "   Equipment ID Manufacturer Model                                Service  \\\n",
      "0       CAT906M          Cat  906M                             Oil_Change   \n",
      "1       CAT906M          Cat  906M                             Oil_Change   \n",
      "2        JD6220   John Deere  6220                 Cab_Air_Filters_Change   \n",
      "3        JD6220   John Deere  6220                 Cab_Air_Filters_Change   \n",
      "4        JD6220   John Deere  6220                   Carbon_Filter_Change   \n",
      "5        JD6220   John Deere  6220       Clean_Engine_And_Cab_Air_Filters   \n",
      "6        JD6220   John Deere  6220                    Fuel_Filters_Change   \n",
      "7        JD6220   John Deere  6220                    Fuel_Filters_Change   \n",
      "8        JD6220   John Deere  6220                    Fuel_Filters_Change   \n",
      "9        JD6220   John Deere  6220                    Fuel_Filters_Change   \n",
      "10       JD6220   John Deere  6220  Hydraulic_And_Transmission_Oil_Change   \n",
      "11       JD6220   John Deere  6220  Hydraulic_And_Transmission_Oil_Change   \n",
      "12       JD6220   John Deere  6220  Hydraulic_And_Transmission_Oil_Change   \n",
      "13       JD6220   John Deere  6220  Hydraulic_And_Transmission_Oil_Change   \n",
      "14       JD6220   John Deere  6220                             Oil_Change   \n",
      "15       JD6220   John Deere  6220                             Oil_Change   \n",
      "\n",
      "   Part Number           Quantity          Part Description  \\\n",
      "0    132492140         15 Gallons                10w-40 Oil   \n",
      "1     90832149                  1                Oil Filter   \n",
      "2     AL155288                  2  Recirculation Air Filter   \n",
      "3     AL177184                  2       Standard Air Filter   \n",
      "4     AL158986                  1             Carbon Filter   \n",
      "5          NaN                NaN                       NaN   \n",
      "6     AL153517                  1        Inline Fuel Filter   \n",
      "7     RE509031                  1         Final Fuel Filter   \n",
      "8     RE509208                  1       Primary Fuel Filter   \n",
      "9      RE62419                  1               Fuel Filter   \n",
      "10    AL118036                  1      Hydraulic Oil Filter   \n",
      "11    AL156625                  1   Transmission Oil Filter   \n",
      "12    AL203061                  1  Hydraulic Filter Element   \n",
      "13     AR69444     13.2 Gal (50L)  Hy-Gard Transmission Oil   \n",
      "14    12345678  4.2 Gallons (16L)                   Plus-50   \n",
      "15    RE504836                  1                Oil Filter   \n",
      "\n",
      "                                                  URL  \\\n",
      "0                             https://www.google.com/   \n",
      "1                             https://www.google.com/   \n",
      "2                             https://www.google.com/   \n",
      "3                             https://www.google.com/   \n",
      "4                             https://www.google.com/   \n",
      "5                                                 NaN   \n",
      "6                             https://www.google.com/   \n",
      "7                             https://www.google.com/   \n",
      "8                             https://www.google.com/   \n",
      "9                             https://www.google.com/   \n",
      "10  https://shop.deere.com/us/product/AL156625%3A-...   \n",
      "11  https://shop.deere.com/us/product/AL156625%3A-...   \n",
      "12  https://shop.deere.com/us/product/AL156625%3A-...   \n",
      "13  https://shop.deere.com/us/product/AR69444%3A-T...   \n",
      "14                            https://www.google.com/   \n",
      "15                            https://www.google.com/   \n",
      "\n",
      "                        Notes  \n",
      "0   Hours (100 hours overdue)  \n",
      "1   Hours (100 hours overdue)  \n",
      "2   Date (44628 days overdue)  \n",
      "3   Date (44628 days overdue)  \n",
      "4      Date (27 days overdue)  \n",
      "5   Hours (300 hours overdue)  \n",
      "6   Hours (300 hours overdue)  \n",
      "7   Hours (300 hours overdue)  \n",
      "8   Hours (300 hours overdue)  \n",
      "9   Hours (300 hours overdue)  \n",
      "10  Hours (150 hours overdue)  \n",
      "11  Hours (150 hours overdue)  \n",
      "12  Hours (150 hours overdue)  \n",
      "13  Hours (150 hours overdue)  \n",
      "14  Hours (100 hours overdue)  \n",
      "15  Hours (100 hours overdue)  \n"
     ]
    }
   ],
   "source": [
    "import pandas as pd\n",
    "\n",
    "def create_dataframe_from_sql_output(file_path):\n",
    "    \"\"\"Reads SQL output from a text file and creates a pandas DataFrame.\n",
    "\n",
    "    Args:\n",
    "        file_path (str): The path to the text file containing the SQL output.\n",
    "\n",
    "    Returns:\n",
    "        pd.DataFrame: A pandas DataFrame containing the data.\n",
    "    \"\"\"\n",
    "    try:\n",
    "        df = pd.read_csv(file_path, sep='|', header=None)\n",
    "        df.columns = ['Equipment ID', 'Manufacturer', 'Model', 'Service', 'Part Number', 'Quantity', 'Part Description', 'URL', 'Notes']\n",
    "        return df\n",
    "    except FileNotFoundError:\n",
    "        print(f\"File not found: {file_path}\")\n",
    "\n",
    "# How to use the function and print the dataframe\n",
    "df = create_dataframe_from_sql_output(\"../output.txt\")\n",
    "print(df)"
   ]
  },
  {
   "cell_type": "code",
   "execution_count": null,
   "id": "94944087",
   "metadata": {},
   "outputs": [],
   "source": []
  }
 ],
 "metadata": {
  "kernelspec": {
   "display_name": "Python 3 (ipykernel)",
   "language": "python",
   "name": "python3"
  },
  "language_info": {
   "codemirror_mode": {
    "name": "ipython",
    "version": 3
   },
   "file_extension": ".py",
   "mimetype": "text/x-python",
   "name": "python",
   "nbconvert_exporter": "python",
   "pygments_lexer": "ipython3",
   "version": "3.11.5"
  }
 },
 "nbformat": 4,
 "nbformat_minor": 5
}
